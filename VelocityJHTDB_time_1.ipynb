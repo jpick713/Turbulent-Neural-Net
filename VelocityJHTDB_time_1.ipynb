{
 "cells": [
  {
   "cell_type": "code",
   "execution_count": 23,
   "metadata": {},
   "outputs": [],
   "source": [
    "%matplotlib inline\n",
    "import numpy as np\n",
    "import math\n",
    "import random\n",
    "import pyJHTDB\n",
    "import pandas as pd\n",
    "import os"
   ]
  },
  {
   "cell_type": "code",
   "execution_count": 24,
   "metadata": {},
   "outputs": [
   
   ],
   "source": [
    "dx=8*np.pi/100\n",
    "dy=0.02\n",
    "dz=3*np.pi/100\n",
    "x=np.zeros(100)\n",
    "y=np.zeros(100)\n",
    "z=np.zeros(100)\n",
    "for i in range(100):\n",
    "    x[i]=i*dx\n",
    "    y[i]=-1+i*dy\n",
    "    z[i]=i*dz\n",
    "print(x[5], y[8], z[3]) #just a check on values\n",
    "\n",
    "points1=[[None]*3]*200000\n",
    "points2=[[None]*3]*200000\n",
    "points3=[[None]*3]*200000\n",
    "points4=[[None]*3]*200000\n",
    "points5=[[None]*3]*200000\n",
    "for i in range(100):\n",
    "    for j in range(100):\n",
    "        for k in range(20):\n",
    "            points1[2000*i+20*j+k]=[x[i],y[j],z[k]]\n",
    "            points2[2000*i+20*j+k]=[x[i],y[j],z[k+20]]\n",
    "            points3[2000*i+20*j+k]=[x[i],y[j],z[k+40]]\n",
    "            points4[2000*i+20*j+k]=[x[i],y[j],z[k+60]]\n",
    "            points5[2000*i+20*j+k]=[x[i],y[j],z[k+80]]\n",
    "            "
   ]
  },
  {
   "cell_type": "code",
   "execution_count": 25,
   "metadata": {},
   "outputs": [
    {
     "name": "stdout",
     "output_type": "stream",
     "text": [
      "[ 0.        -0.18       0.9424778] [ 1.0053097 -0.7        1.8849556] 200000 3\n"
     ]
    }
   ],
   "source": [
    "points1 = np.array(points1,dtype='float32')\n",
    "points2 = np.array(points2,dtype='float32')\n",
    "points3 = np.array(points3,dtype='float32')\n",
    "points4 = np.array(points4,dtype='float32')\n",
    "points5 = np.array(points5,dtype='float32')\n",
    "print(points1[830], points2[8300], len(points4), points5.shape[-1])\n"
   ]
  },
  {
   "cell_type": "code",
   "execution_count": 26,
   "metadata": {},
   "outputs": [],
   "source": [
    "time=np.zeros(5000)\n",
    "dt=0.0065\n",
    "for i in range(5000):\n",
    "    time[i]=i*0.0065"
   ]
  },
  {
   "cell_type": "code",
   "execution_count": 27,
   "metadata": {},
   "outputs": [],
   "source": [
    "spatialInterp  = 6  # 6 point Lagrange\n",
    "temporalInterp = 0  # no time interpolation at least on these points\n",
    "FD4Lag4        = 44 #for gradients\n",
    "lTDB = pyJHTDB.libJHTDB()\n",
    "#initialize webservices\n",
    "lTDB.initialize()\n",
    "auth_token  = \"com.gmail.jpickett713-28046a94\" #token receieved from JHU\n",
    "lTDB.add_token(auth_token)"
   ]
  },
  {
   "cell_type": "code",
   "execution_count": 28,
   "metadata": {},
   "outputs": [
    {
     "name": "stdout",
     "output_type": "stream",
     "text": [
      "<pyJHTDB.libJHTDB.libJHTDB object at 0x7fd566e638d0>\n"
     ]
    }
   ],
   "source": [
    "print(lTDB) #check that lTDB initialized"
   ]
  },
  {
   "cell_type": "code",
   "execution_count": 29,
   "metadata": {},
   "outputs": [],
   "source": [
    "result1 = lTDB.getData(time[1], points1,\n",
    "        sinterp = spatialInterp, tinterp = temporalInterp,data_set ='channel',\n",
    "        getFunction = 'getVelocity')\n",
    "result2 = lTDB.getData(time[1], points2,\n",
    "        sinterp = spatialInterp, tinterp = temporalInterp,data_set ='channel',\n",
    "        getFunction = 'getVelocity')\n",
    "result3 = lTDB.getData(time[1], points3,\n",
    "        sinterp = spatialInterp, tinterp = temporalInterp,data_set ='channel',\n",
    "        getFunction = 'getVelocity')\n",
    "result4 = lTDB.getData(time[1], points4,\n",
    "        sinterp = spatialInterp, tinterp = temporalInterp,data_set ='channel',\n",
    "        getFunction = 'getVelocity')\n",
    "result5 = lTDB.getData(time[1], points5,\n",
    "        sinterp = spatialInterp, tinterp = temporalInterp,data_set ='channel',\n",
    "        getFunction = 'getVelocity')"
   ]
  },
  {
   "cell_type": "code",
   "execution_count": 30,
   "metadata": {},
   "outputs": [],
   "source": [
    "columns=['x','y','z','u','v', 'w']\n",
    "arr_1=np.zeros((200000,6))\n",
    "arr_2=np.zeros((200000,6))\n",
    "arr_3=np.zeros((200000,6))\n",
    "arr_4=np.zeros((200000,6))\n",
    "arr_5=np.zeros((200000,6))\n",
    "for j in range(200000):\n",
    "    arr_1[j,0]=x[int(j//2000)]\n",
    "    arr_1[j,1]=y[int(j//20)%100]\n",
    "    arr_1[j,2]=z[j%20]\n",
    "    arr_2[j,0]=x[int(j//2000)]\n",
    "    arr_2[j,1]=y[int(j//20)%100]\n",
    "    arr_2[j,2]=z[20+j%20]\n",
    "    arr_3[j,0]=x[int(j//2000)]\n",
    "    arr_3[j,1]=y[int(j//20)%100]\n",
    "    arr_3[j,2]=z[40+j%20]\n",
    "    arr_4[j,0]=x[int(j//2000)]\n",
    "    arr_4[j,1]=y[int(j//20)%100]\n",
    "    arr_4[j,2]=z[60+j%20]\n",
    "    arr_5[j,0]=x[int(j//2000)]\n",
    "    arr_5[j,1]=y[int(j//20)%100]\n",
    "    arr_5[j,2]=z[80+j%20]\n",
    "for i in range(200000):\n",
    "    arr_1[i,3:6]=result1[i]\n",
    "    arr_2[i,3:6]=result2[i]\n",
    "    arr_3[i,3:6]=result3[i]\n",
    "    arr_4[i,3:6]=result4[i]\n",
    "    arr_5[i,3:6]=result5[i]\n",
    "    "
   ]
  },
  {
   "cell_type": "code",
   "execution_count": 36,
   "metadata": {},
   "outputs": [],
   "source": [
    "df=pd.DataFrame(data=np.concatenate((arr_1,arr_2,arr_3,arr_4,arr_5)), columns=columns)\n",
    "df1=df[['u','v','w']]"
   ]
  },
  {
   "cell_type": "code",
   "execution_count": 39,
   "metadata": {},
   "outputs": [
    {
     "data": {
      "text/plain": [
       "(1000000, 3)"
      ]
     },
     "execution_count": 39,
     "metadata": {},
     "output_type": "execute_result"
    }
   ],
   "source": [
    "df.shape #check dataframe is right shape\n",
    "df1.shape"
   ]
  },
  {
   "cell_type": "code",
   "execution_count": 40,
   "metadata": {},
   "outputs": [],
   "source": [
    "df1.to_csv('time_1.csv')"
   ]
  },
  {
   "cell_type": "code",
   "execution_count": null,
   "metadata": {},
   "outputs": [],
   "source": []
  }
 ],
 "metadata": {
  "kernelspec": {
   "display_name": "Python 3",
   "language": "python",
   "name": "python3"
  },
  "language_info": {
   "codemirror_mode": {
    "name": "ipython",
    "version": 3
   },
   "file_extension": ".py",
   "mimetype": "text/x-python",
   "name": "python",
   "nbconvert_exporter": "python",
   "pygments_lexer": "ipython3",
   "version": "3.7.1"
  }
 },
 "nbformat": 4,
 "nbformat_minor": 2
}
